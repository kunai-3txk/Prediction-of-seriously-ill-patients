{
  "nbformat": 4,
  "nbformat_minor": 0,
  "metadata": {
    "colab": {
      "provenance": [],
      "toc_visible": true,
      "mount_file_id": "11XqnfuK1fH8ztBBURpBVgWes57vbt307",
      "authorship_tag": "ABX9TyMnCaDJhXrjypoNuMgGzpbH",
      "include_colab_link": true
    },
    "kernelspec": {
      "name": "python3",
      "display_name": "Python 3"
    },
    "language_info": {
      "name": "python"
    }
  },
  "cells": [
    {
      "cell_type": "markdown",
      "metadata": {
        "id": "view-in-github",
        "colab_type": "text"
      },
      "source": [
        "<a href=\"https://colab.research.google.com/github/kunai-3txk/Prediction-of-seriously-ill-patients/blob/main/BaseLine_featureselect.ipynb\" target=\"_parent\"><img src=\"https://colab.research.google.com/assets/colab-badge.svg\" alt=\"Open In Colab\"/></a>"
      ]
    },
    {
      "cell_type": "markdown",
      "source": [
        "#import"
      ],
      "metadata": {
        "id": "pIeYz0FZ8qYv"
      }
    },
    {
      "cell_type": "code",
      "execution_count": 94,
      "metadata": {
        "colab": {
          "base_uri": "https://localhost:8080/"
        },
        "id": "xNHPpgdT7ytE",
        "outputId": "a6c7f224-b7cf-4935-a3eb-7d1cc463e286"
      },
      "outputs": [
        {
          "output_type": "stream",
          "name": "stdout",
          "text": [
            "Looking in indexes: https://pypi.org/simple, https://us-python.pkg.dev/colab-wheels/public/simple/\n",
            "Requirement already satisfied: catboost in /usr/local/lib/python3.9/dist-packages (1.1.1)\n",
            "Requirement already satisfied: matplotlib in /usr/local/lib/python3.9/dist-packages (from catboost) (3.7.1)\n",
            "Requirement already satisfied: six in /usr/local/lib/python3.9/dist-packages (from catboost) (1.16.0)\n",
            "Requirement already satisfied: pandas>=0.24.0 in /usr/local/lib/python3.9/dist-packages (from catboost) (1.4.4)\n",
            "Requirement already satisfied: numpy>=1.16.0 in /usr/local/lib/python3.9/dist-packages (from catboost) (1.22.4)\n",
            "Requirement already satisfied: scipy in /usr/local/lib/python3.9/dist-packages (from catboost) (1.10.1)\n",
            "Requirement already satisfied: graphviz in /usr/local/lib/python3.9/dist-packages (from catboost) (0.20.1)\n",
            "Requirement already satisfied: plotly in /usr/local/lib/python3.9/dist-packages (from catboost) (5.13.1)\n",
            "Requirement already satisfied: pytz>=2020.1 in /usr/local/lib/python3.9/dist-packages (from pandas>=0.24.0->catboost) (2022.7.1)\n",
            "Requirement already satisfied: python-dateutil>=2.8.1 in /usr/local/lib/python3.9/dist-packages (from pandas>=0.24.0->catboost) (2.8.2)\n",
            "Requirement already satisfied: fonttools>=4.22.0 in /usr/local/lib/python3.9/dist-packages (from matplotlib->catboost) (4.39.2)\n",
            "Requirement already satisfied: pillow>=6.2.0 in /usr/local/lib/python3.9/dist-packages (from matplotlib->catboost) (8.4.0)\n",
            "Requirement already satisfied: packaging>=20.0 in /usr/local/lib/python3.9/dist-packages (from matplotlib->catboost) (23.0)\n",
            "Requirement already satisfied: importlib-resources>=3.2.0 in /usr/local/lib/python3.9/dist-packages (from matplotlib->catboost) (5.12.0)\n",
            "Requirement already satisfied: pyparsing>=2.3.1 in /usr/local/lib/python3.9/dist-packages (from matplotlib->catboost) (3.0.9)\n",
            "Requirement already satisfied: contourpy>=1.0.1 in /usr/local/lib/python3.9/dist-packages (from matplotlib->catboost) (1.0.7)\n",
            "Requirement already satisfied: cycler>=0.10 in /usr/local/lib/python3.9/dist-packages (from matplotlib->catboost) (0.11.0)\n",
            "Requirement already satisfied: kiwisolver>=1.0.1 in /usr/local/lib/python3.9/dist-packages (from matplotlib->catboost) (1.4.4)\n",
            "Requirement already satisfied: tenacity>=6.2.0 in /usr/local/lib/python3.9/dist-packages (from plotly->catboost) (8.2.2)\n",
            "Requirement already satisfied: zipp>=3.1.0 in /usr/local/lib/python3.9/dist-packages (from importlib-resources>=3.2.0->matplotlib->catboost) (3.15.0)\n",
            "Looking in indexes: https://pypi.org/simple, https://us-python.pkg.dev/colab-wheels/public/simple/\n",
            "Requirement already satisfied: polars in /usr/local/lib/python3.9/dist-packages (0.16.14)\n",
            "Requirement already satisfied: typing_extensions>=4.0.1 in /usr/local/lib/python3.9/dist-packages (from polars) (4.5.0)\n"
          ]
        }
      ],
      "source": [
        "!pip install catboost\n",
        "!pip install polars"
      ]
    },
    {
      "cell_type": "code",
      "source": [
        "import matplotlib.pyplot as plt\n",
        "import numpy as np\n",
        "import pandas as pd\n",
        "import pandas_profiling\n",
        "import os\n",
        "\n",
        "import warnings\n",
        "warnings.filterwarnings(\"ignore\", message=\"Device used : cpu\", category=UserWarning)\n",
        "from sklearn.exceptions import DataConversionWarning\n",
        "warnings.filterwarnings(action='ignore', category=DataConversionWarning)\n",
        "import polars as pl\n",
        "\n",
        "import xgboost as xgb\n",
        "import seaborn as sns; sns.set()\n",
        "\n",
        "\n",
        "from sklearn.model_selection import train_test_split\n",
        "from sklearn.model_selection import KFold\n",
        "from sklearn.model_selection import GroupShuffleSplit\n",
        "from sklearn.model_selection import StratifiedKFold\n",
        "from sklearn.metrics import roc_auc_score\n",
        "\n",
        "\n",
        "from imblearn.under_sampling import RandomUnderSampler\n",
        "\n",
        "import lightgbm as lgb #LightGBM\n",
        "from lightgbm import LGBMClassifier\n",
        "from catboost import CatBoostClassifier,Pool"
      ],
      "metadata": {
        "id": "uE48vhRW8gCg"
      },
      "execution_count": 95,
      "outputs": []
    },
    {
      "cell_type": "markdown",
      "source": [
        "#config"
      ],
      "metadata": {
        "id": "iVs3fxXa8tts"
      }
    },
    {
      "cell_type": "code",
      "source": [
        "class config:\n",
        "    RANDOM_STATE=100  \n",
        "    FRAC = 0.2\n",
        "    N_FOLD = 2\n",
        "    N_BAGGING = 2\n",
        "    UNDER_SAMPLING = True\n",
        "    \n",
        "class paths:\n",
        "    # kaggle環境ならTrue\n",
        "    if 'KAGGLE_URL_BASE' in set(os.environ.keys()):\n",
        "        common_path = \"/kaggle/input/amp-parkinsons-disease-progression-prediction\"\n",
        "    \n",
        "    # colaboratory環境ならTrue\n",
        "    if 'COLAB_GPU' in set(os.environ.keys()):\n",
        "        common_path = \"/content/drive/MyDrive/ill\"\n",
        "    \n",
        "    SUBMISSION = common_path + \"/submission.csv\"\n",
        "    TRAIN = common_path + \"/train_df.csv\"\n",
        "    TEST = common_path + \"/test_df.csv\"\n",
        "    SUB_OUT = common_path + \"/sub/\"\n",
        "     "
      ],
      "metadata": {
        "id": "rJErP_Mv8lmB"
      },
      "execution_count": 106,
      "outputs": []
    },
    {
      "cell_type": "markdown",
      "source": [
        "#def"
      ],
      "metadata": {
        "id": "63aywUGB-n6T"
      }
    },
    {
      "cell_type": "markdown",
      "source": [
        "#Load Data"
      ],
      "metadata": {
        "id": "q25eYeW09lC8"
      }
    },
    {
      "cell_type": "code",
      "source": [
        "train = pd.read_csv(paths.TRAIN)\n",
        "print('train shape:',train.shape)\n",
        "\n",
        "test = pd.read_csv(paths.TEST)\n",
        "print('test shape:',test.shape)\n",
        "\n",
        "submission = pd.read_csv(paths.SUBMISSION)\n",
        "print('submission shape:',submission.shape)"
      ],
      "metadata": {
        "colab": {
          "base_uri": "https://localhost:8080/"
        },
        "id": "IfbQzDXT8pVz",
        "outputId": "0d854b9b-baed-44fc-cefa-0cd354cbf0ae"
      },
      "execution_count": 97,
      "outputs": [
        {
          "output_type": "stream",
          "name": "stdout",
          "text": [
            "train shape: (51359, 85)\n",
            "test shape: (12840, 84)\n",
            "submission shape: (12840, 2)\n"
          ]
        }
      ]
    },
    {
      "cell_type": "markdown",
      "source": [
        "# Data Clean"
      ],
      "metadata": {
        "id": "V1cnsEVBDE_Z"
      }
    },
    {
      "cell_type": "code",
      "source": [
        "target_col = ['target_label']\n",
        "\n",
        "num_cols = ['age', 'bmi', 'height', 'weight', 'icu_4', 'icu_6'\n",
        "            ,'glasgow_coma_scale_1', 'glasgow_coma_scale_2','glasgow_coma_scale_3', 'glasgow_coma_scale_4'\n",
        "            , 'heart_rate', 'blood_oxy', 'arterial_pressure',\n",
        "            'respiratory_rate', 'temp'\n",
        "            , 'blood_pressure_1', 'blood_pressure_2', 'blood_pressure_3', 'blood_pressure_4',\n",
        "            'v1_heartrate_max'\n",
        "            , 'v2', 'v3', 'v4', 'v5', 'v6', 'v7', 'v8', 'v9', 'v10', 'v11', 'v12', 'v13', 'v14','v15', 'v16'\n",
        "            , 'w1', 'w2', 'w3', 'w4', 'w5', 'w6', 'w7', 'w8', 'w9', 'w10', 'w11', 'w12', 'w13', 'w14','w15', 'w16', 'w17', 'w18'\n",
        "            , 'x1', 'x2', 'x3', 'x4', 'x5', 'x6']\n",
        "\n",
        "# id, personal_id_1, personal_id_2 以外のカテゴリー変数\n",
        "whole_cat_cols = [c for c in test.columns if c not in num_cols and c not in ['id', 'personal_id_1', 'personal_id_2']]\n",
        "\n",
        "#for c in whole_cat_cols:\n",
        "#  print(c,\":\",train[c].nunique())\n",
        "\n",
        "low_cat_cols = [] # nunique が比較的少ない変数\n",
        "high_cat_cols = [] # nunique が多い変数\n",
        "\n",
        "for c in whole_cat_cols:\n",
        "    nunq = train[c].nunique()\n",
        "    if nunq >= 10:\n",
        "        high_cat_cols.append(c)\n",
        "    else:\n",
        "        low_cat_cols.append(c)\n",
        "\n",
        "for c in low_cat_cols:\n",
        "    print(f\"{c}:\\t{train[c].unique()}\")\n",
        "for c in high_cat_cols:\n",
        "    print(f\"{c}:\\t{train[c].unique()}\")\n",
        "\n",
        "\n",
        "print(high_cat_cols)\n",
        "print(low_cat_cols)"
      ],
      "metadata": {
        "id": "yL5nmzojDZiT",
        "colab": {
          "base_uri": "https://localhost:8080/"
        },
        "outputId": "01429999-b3af-448f-ebfb-51a6d5f9cb22"
      },
      "execution_count": 98,
      "outputs": [
        {
          "output_type": "stream",
          "name": "stdout",
          "text": [
            "situation_1:\t[0 1]\n",
            "situation_2:\t[ 1.  0. nan]\n",
            "ethnicity:\t['Caucasian' 'African American' 'Other/Unknown' 'Hispanic' nan 'Asian'\n",
            " 'Native American']\n",
            "gender:\t['M' 'F' nan]\n",
            "icu_1:\t['Floor' 'Accident & Emergency' 'Operating Room / Recovery'\n",
            " 'Other Hospital' 'Other ICU' nan]\n",
            "icu_2:\t['admit' 'readmit' 'transfer']\n",
            "icu_3:\t['MICU' 'CCU-CTICU' 'Med-Surg ICU' 'Neuro ICU' 'CSICU' 'SICU' 'CTICU'\n",
            " 'Cardiac ICU']\n",
            "icu_7:\t[0 1]\n",
            "icu_8:\t[ 0.  1. nan]\n",
            "aids:\t[ 0. nan  1.]\n",
            "cirrhosis:\t[ 0.  1. nan]\n",
            "diabetes:\t[ 1.  0. nan]\n",
            "hepatic_issue:\t[ 0.  1. nan]\n",
            "immunosuppression:\t[ 0.  1. nan]\n",
            "leukemia:\t[ 0.  1. nan]\n",
            "lymphoma:\t[ 0. nan  1.]\n",
            "carcinoma:\t[ 0.  1. nan]\n",
            "facility_id:\t[ 51  19  16 188 168 200 111  18  80 161 196  55 176  30 157 137  98 169\n",
            " 150 112 128  33  43  39  79 194   5  62  49 109 116   2 119  63 133  13\n",
            " 113 103  32  83 118  70 185  21 149 101 166 100  27 160 132  76 117  26\n",
            " 105  54  10 138 192  14  77  24  57  40 155 186  69 174  90 187  99  64\n",
            "  35 147 180 171 204 167  89 198 140 107 189 181 202  93 146   6   8 151\n",
            " 136  92 199  47  31 158 159 135  60  50 121 139  15 195 182  37  17  78\n",
            "  81 125  85  53 184 142 177 104  36  94  71  87 102  72 179 197  84  88\n",
            " 145  46  44 134   9  20  91  34 183  29   3  68 129 130  23  66  74  38\n",
            " 124   4  95]\n",
            "icu_id:\t[698 657 482 855 136 516 602 775 620 324 809 376 622 921 697 143 267 252\n",
            " 160 384 377 623  91 642 619 402 413 601 337 261 646 467 888 432 307 876\n",
            " 417 108 889 549 694 120 798 369  95  99 434 664 687 513 103 481 504 613\n",
            " 464 675 477 841 491 840 831 711 679 608 470 347 772 499 391 285 424 550\n",
            " 259 480  97 425 708  92 102 251 647 489 829 114 100  87 523 487  85 628\n",
            " 609 678 700 451 176 636 227 498  82 804 236 594 181 625 445 626 514 683\n",
            " 895 290 394 666 404 426 903  93 133 125 508 495 428 927 126 486 543 814\n",
            " 427 654 869 918 597 490 109 374 707 653 429 185 286 607 616 556 468 479\n",
            " 832  83 408 822 474 113 611 836 709 705 512 538 669 517 925 684 878 256\n",
            " 908 506 431 212 559  89 685 430 362 187 766  90 794 696 195 335 317 650\n",
            " 497 273 907 874 248 561 926 780 905 656 505 493 123 386 471 547 389 312\n",
            " 321 830 531 400 632  98 852 388 174 634 915 641 483 862 171 786 170 906\n",
            " 909 364 904 917 366 134 135 365 603 338 398 677 242 922 144 823 534 158\n",
            " 153 552 230 494 680 302]\n",
            "icu_5:\t[302.  nan 304. 123. 114. 305. 301. 122. 119. 308. 113. 118. 124. 104.\n",
            " 303. 112. 109. 117. 209. 214. 121. 202. 212. 110. 101. 116. 217. 102.\n",
            " 115. 203. 105. 103. 108. 307. 213. 120. 106. 216. 306. 107. 207. 215.\n",
            " 218. 219. 208.]\n",
            "body_system_1:\t['Cardiovascular' nan 'Gastrointestinal' 'Metabolic' 'Genitourinary'\n",
            " 'Neurological' 'Trauma' 'Sepsis' 'Respiratory' 'Musculoskeletal/Skin'\n",
            " 'Gynecological' 'Hematological']\n",
            "body_system_2:\t['Cardiovascular' nan 'Gastrointestinal' 'Metabolic' 'Renal/Genitourinary'\n",
            " 'Neurologic' 'Trauma' 'Undefined diagnoses' 'Respiratory'\n",
            " 'Undefined Diagnoses' 'Haematologic']\n",
            "['facility_id', 'icu_id', 'icu_5', 'body_system_1', 'body_system_2']\n",
            "['situation_1', 'situation_2', 'ethnicity', 'gender', 'icu_1', 'icu_2', 'icu_3', 'icu_7', 'icu_8', 'aids', 'cirrhosis', 'diabetes', 'hepatic_issue', 'immunosuppression', 'leukemia', 'lymphoma', 'carcinoma']\n"
          ]
        }
      ]
    },
    {
      "cell_type": "code",
      "source": [
        "# Label Encoding用の辞書\n",
        "# uniqueが0,1,nanだけの場合は不要\n",
        "ethnicity_list = train['ethnicity'].value_counts().sort_values(ascending=False).index\n",
        "ethnicity_dic = dict(zip(ethnicity_list, range(len(ethnicity_list))))\n",
        "\n",
        "gender_dic = {'M':0, 'F':1}\n",
        "\n",
        "icu1_list = train['icu_1'].value_counts().sort_values(ascending=False).index\n",
        "icu1_dic = dict(zip(icu1_list, range(len(icu1_list))))\n",
        "\n",
        "icu2_list = train['icu_2'].value_counts().sort_values(ascending=False).index\n",
        "icu2_dic = dict(zip(icu2_list, range(len(icu2_list))))\n",
        "\n",
        "icu3_list = train['icu_3'].value_counts().sort_values(ascending=False).index\n",
        "icu3_dic = dict(zip(icu3_list, range(len(icu3_list))))\n",
        "\n",
        "icu5_list = train['icu_5'].value_counts().sort_values(ascending=False).index\n",
        "icu5_dic = dict(zip(icu5_list, range(len(icu5_list))))\n",
        "\n",
        "# 'body_system_1 と 'body_system_1 はその組み合わせに対してLabel Encoding\n",
        "_ser = train['body_system_1'].fillna('NA') + '_' + train['body_system_2'].fillna('NA')\n",
        "bs_list = _ser.value_counts().sort_values(ascending=False).index\n",
        "bs_dic = dict(zip(bs_list, range(len(bs_list))))\n",
        "\n",
        "# Count Encoding用にvalue_countsを用意(辞書として使う)\n",
        "vc_facility = train['facility_id'].value_counts()\n",
        "vc_icu = train['icu_id'].value_counts()"
      ],
      "metadata": {
        "id": "xVJRvFzVPi8r"
      },
      "execution_count": 99,
      "outputs": []
    },
    {
      "cell_type": "code",
      "source": [
        "def base_encoder(input_df):\n",
        "    out_df = input_df[num_cols].copy()\n",
        "\n",
        "    out_df['age_int'] = out_df['age'].round(-1)\n",
        "    #col組み合わせ\n",
        "\n",
        "    #out_df['multi_x5_x6'] = np.nan_to_num(out_df['x5'], nan=1) * np.nan_to_num(out_df['x6'], nan=1)\n",
        "    out_df['multi_x5_v10'] = np.nan_to_num(out_df['x5'], nan=1) * np.nan_to_num(out_df['v10'], nan=1)\n",
        "    out_df['multi_x5_v12'] = np.nan_to_num(out_df['x5'], nan=1) * np.nan_to_num(out_df['v12'], nan=1)\n",
        "    out_df['multi_x6_v10'] = np.nan_to_num(out_df['x5'], nan=1) * np.nan_to_num(out_df['v10'], nan=1)\n",
        "    out_df['multi_x6_v12'] = np.nan_to_num(out_df['x5'], nan=1) * np.nan_to_num(out_df['v12'], nan=1)\n",
        "\n",
        "    #out_df['div_x5_x6'] = np.nan_to_num(out_df['x5'], nan=1) / (1 + np.nan_to_num(out_df['x6'], nan=1))\n",
        "    out_df['div_v10_v12'] = np.nan_to_num(out_df['v10'], nan=1) / (1 + np.nan_to_num(out_df['v12'], nan=1))\n",
        "\n",
        "    #out_df['glasgow_coma_scale_sum'] = out_df['glasgow_coma_scale_1'] + out_df['glasgow_coma_scale_2'] + out_df['glasgow_coma_scale_3'] + out_df['glasgow_coma_scale_4'] \n",
        "    out_df['glasgow_coma_scale_sum'] = out_df['glasgow_coma_scale_1'] + out_df['glasgow_coma_scale_2'] + out_df['glasgow_coma_scale_4'] \n",
        "    out_df['blood_pressure_sum'] = out_df['blood_pressure_1'] + out_df['blood_pressure_2'] + out_df['blood_pressure_3'] + out_df['blood_pressure_4'] \n",
        "    out_df['blood_pressure_avg'] = out_df['blood_pressure_sum'] / 4 \n",
        "    out_df['multi_age_res-rate'] = np.nan_to_num(out_df['age'], nan=1) * np.nan_to_num(out_df['respiratory_rate'], nan=1)\n",
        "\n",
        "\n",
        "    #Label Encoding\n",
        "    out_df['LE_situation_1'] = input_df['situation_1'].copy()\n",
        "    out_df['LE_situation_2'] = input_df['situation_2']\n",
        "    out_df['LE_ethnicity'] = input_df['ethnicity'].map(ethnicity_dic)\n",
        "    out_df['LE_gender'] = input_df['gender'].map(gender_dic)\n",
        "    out_df['LE_icu_1'] = input_df['icu_1'].map(icu1_dic)\n",
        "    out_df['LE_icu_2'] = input_df['icu_2'].map(icu2_dic)\n",
        "    out_df['LE_icu_3'] = input_df['icu_3'].map(icu3_dic)\n",
        "    out_df['LE_icu_5'] = input_df['icu_5'].map(icu5_dic)\n",
        "    out_df['LE_icu_7'] = input_df['icu_7'].copy()\n",
        "    out_df['LE_icu_8'] = input_df['icu_8']\n",
        "    out_df['num_disease'] = 0   # 持病の数\n",
        "    for c in ['aids', 'cirrhosis', 'diabetes', 'hepatic_issue', 'immunosuppression', 'leukemia', 'lymphoma', 'carcinoma']:\n",
        "        out_df['LE_'+c] = input_df[c]\n",
        "        out_df['num_disease'] += input_df[c]\n",
        "    out_df['body_system'] = input_df['body_system_1'].fillna('NA') + '_' + input_df['body_system_2'].fillna('NA')\n",
        "    out_df['LE_body_system'] = out_df['body_system'].map(bs_dic)\n",
        "    out_df['CE_facility'] = input_df['facility_id'].map(vc_facility)\n",
        "    out_df['CE_icu'] = input_df['icu_id'].map(vc_icu)\n",
        "    \n",
        "    #不要行の削除\n",
        "    out_df.drop('body_system', axis=1,inplace=True)\n",
        "\n",
        "    #return out_df.drop('body_system', axis=1)\n",
        "    return out_df"
      ],
      "metadata": {
        "id": "4clNe-y8P-Le"
      },
      "execution_count": 100,
      "outputs": []
    },
    {
      "cell_type": "markdown",
      "source": [
        "#Fit"
      ],
      "metadata": {
        "id": "LAbnyn21DHHr"
      }
    },
    {
      "cell_type": "markdown",
      "source": [
        "## preprocessing"
      ],
      "metadata": {
        "id": "xLtOKg1Hc0pE"
      }
    },
    {
      "cell_type": "code",
      "source": [
        "X_train = base_encoder(train)\n",
        "y_train = train['target_label']\n",
        "\n",
        "test_X = base_encoder(test)"
      ],
      "metadata": {
        "id": "JBxej7wmFHkU"
      },
      "execution_count": 101,
      "outputs": []
    },
    {
      "cell_type": "markdown",
      "source": [
        "## LGBM"
      ],
      "metadata": {
        "id": "UU5sGiF1-Aw7"
      }
    },
    {
      "cell_type": "code",
      "source": [
        "models = []                     \n",
        "preds = np.zeros(len(test))\n",
        "scores = 0.0   \n",
        "best_score = -1\n",
        "fi_df = pd.DataFrame()\n",
        "oof = np.zeros(len(X_train))\n",
        "\n",
        "#_train, X_valtest, y_train, y_valtest = train_test_split(train_X,train_y,test_size=config.FRAC,random_state=config.RANDOM_STATE)\n",
        "skf = StratifiedKFold(n_splits=config.N_FOLD, shuffle=True,random_state=config.RANDOM_STATE)\n",
        "\n",
        "for fold, (trn_idx, val_idx) in enumerate(skf.split(X_train, y_train)): \n",
        "  X_trn, y_trn = X_train.loc[trn_idx], y_train[trn_idx]\n",
        "  X_val, y_val = X_train.loc[val_idx], y_train[val_idx]\n",
        "\n",
        "  for bag in range(config.N_BAGGING):\n",
        "\n",
        "    rus = RandomUnderSampler(random_state=config.RANDOM_STATE, replacement=True)\n",
        "    if config.UNDER_SAMPLING:\n",
        "      X_trn, y_trn = rus.fit_resample(X_trn, y_trn)\n",
        "\n",
        "    # モデルの学習\n",
        "    #model = lgb.LGBMClassifier(importance_type='gain')\n",
        "    # model = lgb.LGBMClassifier(n_estimators=30000,\n",
        "    # max_depth=5,\n",
        "    # colsample_bytree=0.5,\n",
        "    # learning_rate=0.06,\n",
        "    # importance_type='gain',\n",
        "    # random_state=config.RANDOM_STATE)\n",
        "    # model.fit(X_trn, y_trn\n",
        "    #           ,eval_metric='auc' \n",
        "    #           ,eval_set=[(X_val, y_val)]\n",
        "    #           ,callbacks=[lgb.early_stopping(stopping_rounds=10, verbose=False)]\n",
        "    #           )\n",
        "    train_pool = Pool(X_trn, y_trn)\n",
        "    validate_pool = Pool(X_val, y_val) \n",
        "\n",
        "    model = CatBoostClassifier(custom_loss=['AUC'],random_seed=config.RANDOM_STATE,logging_level='Silent')\n",
        "    model.fit(train_pool,eval_set=validate_pool\n",
        "              ,early_stopping_rounds=10,use_best_model=True,plot=False,verbose=False)                 \n",
        "    # validation データでの予測結果\n",
        "    score = roc_auc_score(y_val,model.predict_proba(X_val)[:,1])\n",
        "    oof[val_idx] = model.predict_proba(X_val)[:,1]\n",
        "    #scores += score / (config.N_FOLD * config.N_BAGGING)\n",
        "    models.append(model)\n",
        "\n",
        "    if score > best_score:\n",
        "        best_score = score\n",
        "        best_model = model\n",
        "        best_fold = fold+1\n",
        "        best_bag = bag+1\n",
        "\n",
        "    \n",
        "\n",
        "      # feature_importances_の記録\n",
        "    _df = pd.DataFrame()\n",
        "    _df['feature'] = X_trn.columns\n",
        "    _df['FI'] = model.feature_importances_\n",
        "    _df['fold'] = fold\n",
        "    _df['bag'] = bag\n",
        "    fi_df = pd.concat([fi_df, _df])\n",
        "\n",
        "    preds += model.predict_proba(test_X)[:,1] / (config.N_FOLD * config.N_BAGGING)\n",
        "\n",
        "    #print(\"Fold :\" , fold+1,\"Bagging:\",bag+1)\n",
        "\n",
        "  print(\"Fold :\" , fold+1)\n",
        "\n",
        "print(f\"fold best score : {best_score:.4f}\",\" FOLD \",best_fold,\"BAG\",best_bag)\n",
        "tot_auc = roc_auc_score(y_train, oof)\n",
        "print(f\"Overall AUC: {tot_auc:.5f}\")"
      ],
      "metadata": {
        "colab": {
          "base_uri": "https://localhost:8080/"
        },
        "id": "fkFy8ohX-U7m",
        "outputId": "9a97025e-d817-4066-9866-bcd71e3c81f4"
      },
      "execution_count": 102,
      "outputs": [
        {
          "output_type": "stream",
          "name": "stdout",
          "text": [
            "Fold : 1\n",
            "Fold : 2\n",
            "Fold : 3\n",
            "Fold : 4\n",
            "Fold : 5\n",
            "fold best score : 0.8887  FOLD  1 BAG 1\n",
            "Overall AUC: 0.88073\n"
          ]
        }
      ]
    },
    {
      "cell_type": "markdown",
      "source": [
        "## feature_importances"
      ],
      "metadata": {
        "id": "UGMlULI2c2_-"
      }
    },
    {
      "cell_type": "code",
      "source": [
        "# feature_importances_ 上位20個の図示\n",
        "TOP = 30\n",
        "\n",
        "order = fi_df.groupby('feature')['FI'].mean().sort_values(ascending=False)[:TOP].index\n",
        "# 可視化\n",
        "plt.figure(figsize=(10, 10))\n",
        "sns.barplot(x=\"FI\",y=\"feature\",data=fi_df,order=order)\n",
        "plt.title('importance')\n",
        "plt.tight_layout()\n",
        "plt.show()"
      ],
      "metadata": {
        "colab": {
          "base_uri": "https://localhost:8080/",
          "height": 646
        },
        "id": "o7nwFo4MC7gf",
        "outputId": "e5e423e0-268e-4de9-b92c-7a887f34f4cb"
      },
      "execution_count": 107,
      "outputs": [
        {
          "output_type": "display_data",
          "data": {
            "text/plain": [
              "<Figure size 720x720 with 1 Axes>"
            ],
            "image/png": "[encoded data removed]"
          },
          "metadata": {}
        }
      ]
    },
    {
      "cell_type": "markdown",
      "source": [
        "##displot"
      ],
      "metadata": {
        "id": "reVy5ElYc6Tn"
      }
    },
    {
      "cell_type": "code",
      "source": [
        "oof_df = pd.DataFrame({\n",
        "    'oof': oof,\n",
        "    'target_label':train['target_label']\n",
        "})\n",
        "\n",
        "# 'target_label'ごとの予測値の分布を可視化する\n",
        "sns.displot(oof_df, x=\"oof\", hue=\"target_label\", kind=\"kde\", fill=True)\n",
        "\n",
        "# グラフのタイトルと軸ラベルを設定する\n",
        "plt.title('Distribution of Predictions by True Label')\n",
        "plt.xlabel('Prediction')\n",
        "plt.ylabel('Density')\n",
        "\n",
        "# グラフを表示する\n",
        "plt.show()"
      ],
      "metadata": {
        "colab": {
          "base_uri": "https://localhost:8080/",
          "height": 381
        },
        "id": "u0wjz-JfHzkU",
        "outputId": "b28f946a-b5a3-46cb-ecb5-50e36fc31b4f"
      },
      "execution_count": 104,
      "outputs": [
        {
          "output_type": "display_data",
          "data": {
            "text/plain": [
              "<Figure size 440.8x360 with 1 Axes>"
            ],
            "image/png": "[encoded data removed]"
          },
          "metadata": {}
        }
      ]
    },
    {
      "cell_type": "code",
      "source": [
        "submission['target_label'] = preds\n",
        "submission.to_csv(paths.SUB_OUT+'submission.csv', index=False)"
      ],
      "metadata": {
        "id": "s0nRSZ9QabXG"
      },
      "execution_count": 105,
      "outputs": []
    },
    {
      "cell_type": "code",
      "source": [],
      "metadata": {
        "id": "TicC_Gyc69au"
      },
      "execution_count": 105,
      "outputs": []
    }
  ]
}