{
  "nbformat": 4,
  "nbformat_minor": 0,
  "metadata": {
    "colab": {
      "provenance": [],
      "toc_visible": true,
      "mount_file_id": "https://github.com/kunai-3txk/Prediction-of-seriously-ill-patients/blob/main/BaseLine_featureselect.ipynb",
      "authorship_tag": "ABX9TyN/yJ8h338zRDaEakMz9MIU",
      "include_colab_link": true
    },
    "kernelspec": {
      "name": "python3",
      "display_name": "Python 3"
    },
    "language_info": {
      "name": "python"
    }
  },
  "cells": [
    {
      "cell_type": "markdown",
      "metadata": {
        "id": "view-in-github",
        "colab_type": "text"
      },
      "source": [
        "<a href=\"https://colab.research.google.com/github/kunai-3txk/Prediction-of-seriously-ill-patients/blob/main/BaseLine_featureselect.ipynb\" target=\"_parent\"><img src=\"https://colab.research.google.com/assets/colab-badge.svg\" alt=\"Open In Colab\"/></a>"
      ]
    },
    {
      "cell_type": "markdown",
      "source": [
        "#import"
      ],
      "metadata": {
        "id": "pIeYz0FZ8qYv"
      }
    },
    {
      "cell_type": "code",
      "execution_count": 1,
      "metadata": {
        "colab": {
          "base_uri": "https://localhost:8080/"
        },
        "id": "xNHPpgdT7ytE",
        "outputId": "0fd5cc27-90df-44f3-edc9-31ac3069595d"
      },
      "outputs": [
        {
          "output_type": "stream",
          "name": "stdout",
          "text": [
            "Looking in indexes: https://pypi.org/simple, https://us-python.pkg.dev/colab-wheels/public/simple/\n",
            "Collecting catboost\n",
            "  Downloading catboost-1.1.1-cp39-none-manylinux1_x86_64.whl (76.6 MB)\n",
            "\u001b[2K     \u001b[90m━━━━━━━━━━━━━━━━━━━━━━━━━━━━━━━━━━━━━━━━\u001b[0m \u001b[32m76.6/76.6 MB\u001b[0m \u001b[31m13.1 MB/s\u001b[0m eta \u001b[36m0:00:00\u001b[0m\n",
            "\u001b[?25hRequirement already satisfied: plotly in /usr/local/lib/python3.9/dist-packages (from catboost) (5.13.1)\n",
            "Requirement already satisfied: matplotlib in /usr/local/lib/python3.9/dist-packages (from catboost) (3.7.1)\n",
            "Requirement already satisfied: numpy>=1.16.0 in /usr/local/lib/python3.9/dist-packages (from catboost) (1.22.4)\n",
            "Requirement already satisfied: graphviz in /usr/local/lib/python3.9/dist-packages (from catboost) (0.20.1)\n",
            "Requirement already satisfied: scipy in /usr/local/lib/python3.9/dist-packages (from catboost) (1.10.1)\n",
            "Requirement already satisfied: pandas>=0.24.0 in /usr/local/lib/python3.9/dist-packages (from catboost) (1.4.4)\n",
            "Requirement already satisfied: six in /usr/local/lib/python3.9/dist-packages (from catboost) (1.16.0)\n",
            "Requirement already satisfied: python-dateutil>=2.8.1 in /usr/local/lib/python3.9/dist-packages (from pandas>=0.24.0->catboost) (2.8.2)\n",
            "Requirement already satisfied: pytz>=2020.1 in /usr/local/lib/python3.9/dist-packages (from pandas>=0.24.0->catboost) (2022.7.1)\n",
            "Requirement already satisfied: pillow>=6.2.0 in /usr/local/lib/python3.9/dist-packages (from matplotlib->catboost) (8.4.0)\n",
            "Requirement already satisfied: contourpy>=1.0.1 in /usr/local/lib/python3.9/dist-packages (from matplotlib->catboost) (1.0.7)\n",
            "Requirement already satisfied: pyparsing>=2.3.1 in /usr/local/lib/python3.9/dist-packages (from matplotlib->catboost) (3.0.9)\n",
            "Requirement already satisfied: importlib-resources>=3.2.0 in /usr/local/lib/python3.9/dist-packages (from matplotlib->catboost) (5.12.0)\n",
            "Requirement already satisfied: packaging>=20.0 in /usr/local/lib/python3.9/dist-packages (from matplotlib->catboost) (23.0)\n",
            "Requirement already satisfied: kiwisolver>=1.0.1 in /usr/local/lib/python3.9/dist-packages (from matplotlib->catboost) (1.4.4)\n",
            "Requirement already satisfied: fonttools>=4.22.0 in /usr/local/lib/python3.9/dist-packages (from matplotlib->catboost) (4.39.2)\n",
            "Requirement already satisfied: cycler>=0.10 in /usr/local/lib/python3.9/dist-packages (from matplotlib->catboost) (0.11.0)\n",
            "Requirement already satisfied: tenacity>=6.2.0 in /usr/local/lib/python3.9/dist-packages (from plotly->catboost) (8.2.2)\n",
            "Requirement already satisfied: zipp>=3.1.0 in /usr/local/lib/python3.9/dist-packages (from importlib-resources>=3.2.0->matplotlib->catboost) (3.15.0)\n",
            "Installing collected packages: catboost\n",
            "Successfully installed catboost-1.1.1\n",
            "Looking in indexes: https://pypi.org/simple, https://us-python.pkg.dev/colab-wheels/public/simple/\n",
            "Collecting polars\n",
            "  Downloading polars-0.16.14-cp37-abi3-manylinux_2_17_x86_64.manylinux2014_x86_64.whl (16.2 MB)\n",
            "\u001b[2K     \u001b[90m━━━━━━━━━━━━━━━━━━━━━━━━━━━━━━━━━━━━━━━━\u001b[0m \u001b[32m16.2/16.2 MB\u001b[0m \u001b[31m35.0 MB/s\u001b[0m eta \u001b[36m0:00:00\u001b[0m\n",
            "\u001b[?25hRequirement already satisfied: typing_extensions>=4.0.1 in /usr/local/lib/python3.9/dist-packages (from polars) (4.5.0)\n",
            "Installing collected packages: polars\n",
            "Successfully installed polars-0.16.14\n"
          ]
        }
      ],
      "source": [
        "!pip install catboost\n",
        "!pip install polars"
      ]
    },
    {
      "cell_type": "code",
      "source": [
        "import matplotlib.pyplot as plt\n",
        "import numpy as np\n",
        "import pandas as pd\n",
        "import pandas_profiling\n",
        "import os\n",
        "from scipy.sparse import csr_matrix\n",
        "from sklearn.decomposition import NMF\n",
        "from sklearn.preprocessing import MinMaxScaler\n",
        "\n",
        "import warnings\n",
        "warnings.filterwarnings(\"ignore\", message=\"Device used : cpu\", category=UserWarning)\n",
        "from sklearn.exceptions import DataConversionWarning\n",
        "warnings.filterwarnings(action='ignore', category=DataConversionWarning)\n",
        "import polars as pl\n",
        "\n",
        "import xgboost as xgb\n",
        "import seaborn as sns; sns.set()\n",
        "\n",
        "\n",
        "from sklearn.model_selection import train_test_split\n",
        "from sklearn.model_selection import KFold\n",
        "from sklearn.model_selection import GroupShuffleSplit\n",
        "from sklearn.model_selection import StratifiedKFold\n",
        "from sklearn.metrics import roc_auc_score\n",
        "\n",
        "\n",
        "\n",
        "from imblearn.under_sampling import RandomUnderSampler\n",
        "\n",
        "import lightgbm as lgb #LightGBM\n",
        "from lightgbm import LGBMClassifier\n",
        "from catboost import CatBoostClassifier,Pool"
      ],
      "metadata": {
        "id": "uE48vhRW8gCg"
      },
      "execution_count": 80,
      "outputs": []
    },
    {
      "cell_type": "markdown",
      "source": [
        "#config"
      ],
      "metadata": {
        "id": "iVs3fxXa8tts"
      }
    },
    {
      "cell_type": "code",
      "source": [
        "class config:\n",
        "    RANDOM_STATE=100  \n",
        "    FRAC = 0.2\n",
        "    N_FOLD = 3\n",
        "    N_BAGGING = 3\n",
        "    UNDER_SAMPLING = True\n",
        "    \n",
        "class paths:\n",
        "    # kaggle環境ならTrue\n",
        "    if 'KAGGLE_URL_BASE' in set(os.environ.keys()):\n",
        "        common_path = \"/kaggle/input/amp-parkinsons-disease-progression-prediction\"\n",
        "    \n",
        "    # colaboratory環境ならTrue\n",
        "    if 'COLAB_GPU' in set(os.environ.keys()):\n",
        "        common_path = \"/content/drive/MyDrive/ill\"\n",
        "    \n",
        "    SUBMISSION = common_path + \"/submission.csv\"\n",
        "    TRAIN = common_path + \"/train_df.csv\"\n",
        "    TEST = common_path + \"/test_df.csv\"\n",
        "    SUB_OUT = common_path + \"/sub/\"\n",
        "     "
      ],
      "metadata": {
        "id": "rJErP_Mv8lmB"
      },
      "execution_count": 17,
      "outputs": []
    },
    {
      "cell_type": "markdown",
      "source": [
        "#def"
      ],
      "metadata": {
        "id": "63aywUGB-n6T"
      }
    },
    {
      "cell_type": "markdown",
      "source": [
        "#Load Data"
      ],
      "metadata": {
        "id": "q25eYeW09lC8"
      }
    },
    {
      "cell_type": "code",
      "source": [
        "train = pd.read_csv(paths.TRAIN)\n",
        "print('train shape:',train.shape)\n",
        "\n",
        "test = pd.read_csv(paths.TEST)\n",
        "print('test shape:',test.shape)\n",
        "\n",
        "submission = pd.read_csv(paths.SUBMISSION)\n",
        "print('submission shape:',submission.shape)"
      ],
      "metadata": {
        "colab": {
          "base_uri": "https://localhost:8080/"
        },
        "id": "IfbQzDXT8pVz",
        "outputId": "fc80e1ad-8c4f-43ce-ffe5-9969114fef11"
      },
      "execution_count": 4,
      "outputs": [
        {
          "output_type": "stream",
          "name": "stdout",
          "text": [
            "train shape: (51359, 85)\n",
            "test shape: (12840, 84)\n",
            "submission shape: (12840, 2)\n"
          ]
        }
      ]
    },
    {
      "cell_type": "markdown",
      "source": [
        "# Data Clean"
      ],
      "metadata": {
        "id": "V1cnsEVBDE_Z"
      }
    },
    {
      "cell_type": "code",
      "source": [
        "target_col = ['target_label']\n",
        "\n",
        "num_cols = ['age', 'bmi', 'height', 'weight', 'icu_4', 'icu_6'\n",
        "            ,'glasgow_coma_scale_1', 'glasgow_coma_scale_2','glasgow_coma_scale_3', 'glasgow_coma_scale_4'\n",
        "            , 'heart_rate', 'blood_oxy', 'arterial_pressure',\n",
        "            'respiratory_rate', 'temp'\n",
        "            , 'blood_pressure_1', 'blood_pressure_2', 'blood_pressure_3', 'blood_pressure_4',\n",
        "            'v1_heartrate_max'\n",
        "            , 'v2', 'v3', 'v4', 'v5', 'v6', 'v7', 'v8', 'v9', 'v10', 'v11', 'v12', 'v13', 'v14','v15', 'v16'\n",
        "            , 'w1', 'w2', 'w3', 'w4', 'w5', 'w6', 'w7', 'w8', 'w9', 'w10', 'w11', 'w12', 'w13', 'w14','w15', 'w16', 'w17', 'w18'\n",
        "            , 'x1', 'x2', 'x3', 'x4', 'x5', 'x6']\n",
        "\n",
        "# id, personal_id_1, personal_id_2 以外のカテゴリー変数\n",
        "whole_cat_cols = [c for c in test.columns if c not in num_cols and c not in ['id', 'personal_id_1', 'personal_id_2']]\n",
        "\n",
        "#for c in whole_cat_cols:\n",
        "#  print(c,\":\",train[c].nunique())\n",
        "\n",
        "low_cat_cols = [] # nunique が比較的少ない変数\n",
        "high_cat_cols = [] # nunique が多い変数\n",
        "\n",
        "for c in whole_cat_cols:\n",
        "    nunq = train[c].nunique()\n",
        "    if nunq >= 10:\n",
        "        high_cat_cols.append(c)\n",
        "    else:\n",
        "        low_cat_cols.append(c)\n",
        "\n",
        "for c in low_cat_cols:\n",
        "    print(f\"{c}:\\t{train[c].unique()}\")\n",
        "for c in high_cat_cols:\n",
        "    print(f\"{c}:\\t{train[c].unique()}\")\n",
        "\n",
        "\n",
        "print(high_cat_cols)\n",
        "print(low_cat_cols)"
      ],
      "metadata": {
        "id": "yL5nmzojDZiT"
      },
      "execution_count": null,
      "outputs": []
    },
    {
      "cell_type": "markdown",
      "source": [
        "## dict for label-encoding"
      ],
      "metadata": {
        "id": "LzAGPnBqi8_k"
      }
    },
    {
      "cell_type": "code",
      "source": [
        "# Label Encoding用の辞書\n",
        "# uniqueが0,1,nanだけの場合は不要\n",
        "# 出現頻度でソートしてラベリングする\n",
        "ethnicity_list = train['ethnicity'].value_counts().sort_values(ascending=False).index\n",
        "ethnicity_dic = dict(zip(ethnicity_list, range(len(ethnicity_list))))\n",
        "\n",
        "gender_dic = {'M':0, 'F':1}\n",
        "\n",
        "icu1_list = train['icu_1'].value_counts().sort_values(ascending=False).index\n",
        "icu1_dic = dict(zip(icu1_list, range(len(icu1_list))))\n",
        "\n",
        "icu2_list = train['icu_2'].value_counts().sort_values(ascending=False).index\n",
        "icu2_dic = dict(zip(icu2_list, range(len(icu2_list))))\n",
        "\n",
        "icu3_list = train['icu_3'].value_counts().sort_values(ascending=False).index\n",
        "icu3_dic = dict(zip(icu3_list, range(len(icu3_list))))\n",
        "\n",
        "icu5_list = train['icu_5'].value_counts().sort_values(ascending=False).index\n",
        "icu5_dic = dict(zip(icu5_list, range(len(icu5_list))))\n",
        "\n",
        "# 'body_system_1 と 'body_system_1 はその組み合わせに対してLabel Encoding\n",
        "_ser = train['body_system_1'].fillna('NA') + '_' + train['body_system_2'].fillna('NA')\n",
        "bs_list = _ser.value_counts().sort_values(ascending=False).index\n",
        "bs_dic = dict(zip(bs_list, range(len(bs_list))))\n",
        "\n",
        "# Count Encoding用にvalue_countsを用意(辞書として使う)\n",
        "vc_facility = train['facility_id'].value_counts()\n",
        "vc_icu = train['icu_id'].value_counts()\n",
        "vc_ethnicity = train['ethnicity'].value_counts()\n",
        "vc_icu_3 = train['icu_3'].value_counts()\n",
        "vc_icu_5 = train['icu_5'].value_counts()\n",
        "vc_bs = _ser.value_counts() #body_system"
      ],
      "metadata": {
        "id": "xVJRvFzVPi8r"
      },
      "execution_count": 6,
      "outputs": []
    },
    {
      "cell_type": "markdown",
      "source": [
        "## nmf"
      ],
      "metadata": {
        "id": "cOHFZN_ijDnA"
      }
    },
    {
      "cell_type": "code",
      "source": [
        "#https://qiita.com/nozma/items/d8dafe4e938c43fb7ad1\n",
        "\n"
      ],
      "metadata": {
        "id": "hWlKaeYifAok"
      },
      "execution_count": 105,
      "outputs": []
    },
    {
      "cell_type": "markdown",
      "source": [
        "## base_encoder"
      ],
      "metadata": {
        "id": "hwhojv3Fi4ac"
      }
    },
    {
      "cell_type": "code",
      "source": [
        "def nmf_encoder(df_mat):\n",
        "\n",
        "  #とりあえず\n",
        "  df_mat_ = df_mat.fillna(0)\n",
        "\n",
        "  mmscaler = MinMaxScaler(feature_range=(0,1), copy=True)\n",
        "  mmscaler.fit(df_mat_.astype('float'))\n",
        "  df_mat_scaled = pd.DataFrame(mmscaler.transform(df_mat_))\n",
        "\n",
        "  df_mat_scaled.columns = df_mat_.columns\n",
        "\n",
        "  #df_mat.describe()\n",
        "  #df_mat_scaled.describe()\n",
        "  #print(df_mat_scaled.shape)\n",
        "\n",
        "  N_COMP = 30\n",
        "\n",
        "  # NMFによる次元削減\n",
        "  model = NMF(n_components=N_COMP, init='random', random_state=config.RANDOM_STATE)\n",
        "  embedded = model.fit_transform(df_mat_scaled)\n",
        "\n",
        "  df_nmf = pd.DataFrame(embedded, columns=[\"NMF_comp{}\".format(i) for i in range(1, N_COMP+1)])\n",
        "  #print(df_nmf.shape)\n",
        "\n",
        "  df_mat = df_mat.join(df_nmf)\n",
        "\n",
        "  return df_mat\n",
        "\n",
        "def base_encoder(input_df):\n",
        "    out_df = input_df[num_cols].copy()\n",
        "\n",
        "    out_df['age_int'] = out_df['age'].round(-1)\n",
        "    #col組み合わせ\n",
        "\n",
        "    #out_df['MULTI_x5_x6'] = np.nan_to_num(out_df['x5'], nan=1) * np.nan_to_num(out_df['x6'], nan=1)\n",
        "    #out_df['MULTI_x5_v10'] = np.nan_to_num(out_df['x5'], nan=1) * np.nan_to_num(out_df['v10'], nan=1)\n",
        "    #out_df['MULTI_x5_v12'] = np.nan_to_num(out_df['x5'], nan=1) * np.nan_to_num(out_df['v12'], nan=1)\n",
        "    #out_df['MULTI_x6_v10'] = np.nan_to_num(out_df['x5'], nan=1) * np.nan_to_num(out_df['v10'], nan=1)\n",
        "    #out_df['MULTI_x6_v12'] = np.nan_to_num(out_df['x5'], nan=1) * np.nan_to_num(out_df['v12'], nan=1)\n",
        "\n",
        "    out_df['DIV_x5_x6'] = out_df['x5'] / (0.001 + out_df['x6'] )\n",
        "    out_df['DIV_v10_v12'] = out_df['v10'] / (0.001 + out_df['v12'] )\n",
        "\n",
        "    #out_df['glasgow_coma_scale_sum'] = out_df['glasgow_coma_scale_1'] + out_df['glasgow_coma_scale_2'] + out_df['glasgow_coma_scale_3'] + out_df['glasgow_coma_scale_4'] \n",
        "    out_df['glasgow_coma_scale_sum'] = out_df['glasgow_coma_scale_1'] + out_df['glasgow_coma_scale_2'] + out_df['glasgow_coma_scale_4'] \n",
        "    out_df['blood_pressure_sum'] = out_df['blood_pressure_1'] + out_df['blood_pressure_2'] + out_df['blood_pressure_3'] + out_df['blood_pressure_4'] \n",
        "    #out_df['blood_pressure_avg'] = out_df['blood_pressure_sum'] / 4 \n",
        "    out_df['multi_age_res-rate'] = np.nan_to_num(out_df['age'], nan=1) * np.nan_to_num(out_df['respiratory_rate'], nan=1)\n",
        "\n",
        "    #Label Encoding\n",
        "    out_df['LE_situation_1'] = input_df['situation_1'].copy()\n",
        "    out_df['LE_situation_2'] = input_df['situation_2']\n",
        "    out_df['LE_ethnicity'] = input_df['ethnicity'].map(ethnicity_dic)\n",
        "    out_df['LE_gender'] = input_df['gender'].map(gender_dic)\n",
        "    out_df['LE_icu_1'] = input_df['icu_1'].map(icu1_dic)\n",
        "    out_df['LE_icu_2'] = input_df['icu_2'].map(icu2_dic)\n",
        "    out_df['LE_icu_3'] = input_df['icu_3'].map(icu3_dic)\n",
        "    out_df['LE_icu_5'] = input_df['icu_5'].map(icu5_dic)\n",
        "    out_df['LE_icu_7'] = input_df['icu_7'].copy()\n",
        "    out_df['LE_icu_8'] = input_df['icu_8']\n",
        "    out_df['num_disease'] = 0   # 持病の数\n",
        "    for c in ['aids', 'cirrhosis', 'diabetes', 'hepatic_issue', 'immunosuppression', 'leukemia', 'lymphoma', 'carcinoma']:\n",
        "        out_df['LE_'+c] = input_df[c]\n",
        "        out_df['num_disease'] += input_df[c]\n",
        "    out_df['body_system'] = input_df['body_system_1'].fillna('NA') + '_' + input_df['body_system_2'].fillna('NA')\n",
        "    out_df['LE_body_system'] = out_df['body_system'].map(bs_dic)\n",
        "    out_df['CE_facility'] = input_df['facility_id'].map(vc_facility)\n",
        "    out_df['CE_icu'] = input_df['icu_id'].map(vc_icu)\n",
        "    out_df['CE_facility'] = input_df['facility_id'].map(vc_facility)\n",
        "    out_df['CE_ethnicity'] = input_df['ethnicity'].map(vc_ethnicity)\n",
        "    out_df['CE_icu_3'] = input_df['icu_3'].map(vc_icu_3)\n",
        "    out_df['CE_icu_5'] = input_df['icu_5'].map(vc_icu_5)\n",
        "    out_df['CE_body_system'] = out_df['body_system'].map(vc_bs)\n",
        "\n",
        "    out_df['DIV_x5_LE_hepatic_issue'] = out_df['x5'] / ( 0.001 + out_df['LE_hepatic_issue'] )\n",
        "    out_df['DIV_x3_x6'] = out_df['x3'] / ( 0.001 + out_df['x6'] )\n",
        "    out_df['DIV_x3_x5'] = out_df['x3'] / ( 0.001 + out_df['x5'] )\n",
        "    out_df['DIV_w6_x5'] = out_df['w6'] / ( 0.001 + out_df['x6'] )\n",
        "    out_df['DIV_x4_x5'] = out_df['x4'] / ( 0.001 + out_df['x5'] )\n",
        "    out_df['DIV_x1_num_disease'] = out_df['x1'] / ( 0.001 + out_df['num_disease'] )\n",
        "    out_df['DIV_v1_heartrate_max_x6'] = out_df['v1_heartrate_max'] / ( 0.001 + out_df['x6'] )\n",
        "    out_df['DIV_x1_x5'] = out_df['x1'] / ( 0.001 + out_df['x5'] )\n",
        "    out_df['DIV_x5_LE_leukemia'] = out_df['x5'] / ( 0.001 + out_df['LE_leukemia'] )\n",
        "    out_df['DIV_x5_LE_icu_8'] = out_df['x5'] / ( 0.001 + out_df['LE_icu_8'] )\n",
        "    out_df['DIV_age_x6'] = out_df['age'] / ( 0.001 + out_df['x6'] )\n",
        "\n",
        "\n",
        "    #不要行の削除\n",
        "    out_df.drop('body_system', axis=1,inplace=True)\n",
        "\n",
        "    # l1 = out_df.columns\n",
        "    # l2 =[]\n",
        "    # for c in l1:\n",
        "    #   if out_df[c].nunique() >= 120:\n",
        "    #     l2.append(c)\n",
        "    # l2 = ['x5','x6','LE_situation_2','blood_oxy','v1_heartrate_max',\n",
        "    #       'w11','x3','w5','w12','age',\n",
        "    #       'heart_rate','v7','w6','respiratory_rate','x1','icu_4',\n",
        "    #       'CE_icu_5','glasgow_coma_scale_3','LE_carcinoma'\n",
        "    #       ,'LE_icu_1','LE_cirrhosis','LE_hepatic_issue','LE_immunosuppression','num_disease','LE_icu_8','LE_leukemia','v8','x4','CE_body_system']\n",
        "    # for c1 in l2:\n",
        "    #   for c2 in l2:\n",
        "    #     col_name_M = 'MULTI_'+str(c1)+'_'+str(c2)\n",
        "    #     col_name_D = 'DIV_'+str(c1)+'_'+str(c2)\n",
        "        #out_df[col_name_M] =  out_df[c1] * out_df[c2]\n",
        "        #out_df[col_name_D] =  out_df[c1] /(0.001 +  out_df[c2])\n",
        "      \n",
        "    out_df = nmf_encoder(out_df)\n",
        "\n",
        "    #return out_df.drop('body_system', axis=1)\n",
        "    return out_df"
      ],
      "metadata": {
        "id": "4clNe-y8P-Le"
      },
      "execution_count": 102,
      "outputs": []
    },
    {
      "cell_type": "markdown",
      "source": [
        "## trial"
      ],
      "metadata": {
        "id": "nG_oWQI_jBlD"
      }
    },
    {
      "cell_type": "markdown",
      "source": [
        "nunique >= 120の結果\n",
        "'MULTI_v16_v15', 'v4', 'MULTI_v15_v16','MULTI_v16_temp','MULTI_v15_v15',  'MULTI_v14_icu_6','MULTI_icu_6_v12', 'MULTI_icu_6_height', 'MULTI_icu_6_v16',\n",
        "相関係数では「heartrate_max」関連が高め\n",
        "\n",
        "相関係数top30 DIV\n",
        "'DIV_x5_LE_hepatic_issue','DIV_x3_x6', 'DIV_x3_x5', 'DIV_w6_x5'\n",
        "'DIV_x4_x5','DIV_x5_w6', 'v6', 'DIV_x1_num_disease'\n",
        "'DIV_v1_heartrate_max_x6', 'DIV_x1_x5', 'DIV_x5_LE_leukemia',\n",
        "'DIV_x5_LE_icu_8','DIV_age_x6'],\n",
        "\n"
      ],
      "metadata": {
        "id": "s8wcTGUZ1oW5"
      }
    },
    {
      "cell_type": "code",
      "source": [
        "# l = X_train.columns\n",
        "# l2 =[]\n",
        "# for c in l:\n",
        "#   if X_train[c].nunique() >= 120:\n",
        "#     l2.append(c)\n",
        "\n",
        "# print(len(l2),l2)\n",
        "\n"
      ],
      "metadata": {
        "id": "7O9X4TFmwKSY"
      },
      "execution_count": 8,
      "outputs": []
    },
    {
      "cell_type": "code",
      "source": [
        "# train_df = pd.concat([X_train,y_train],axis=1)\n",
        "# train_corr = train_df.corr()\n",
        "# target_df = train_corr[['target_label']]\n",
        "# sort_df_de = target_df.sort_values('target_label', ascending=False)\n",
        "# tmp = sort_df_de.iloc[0:30, :].reset_index()\n",
        "# tmp_list = list(tmp['index'].values)\n",
        "# tmp_list.remove('target_label')"
      ],
      "metadata": {
        "id": "T3c8OWZW19eT"
      },
      "execution_count": 9,
      "outputs": []
    },
    {
      "cell_type": "markdown",
      "source": [
        "#Fit"
      ],
      "metadata": {
        "id": "LAbnyn21DHHr"
      }
    },
    {
      "cell_type": "markdown",
      "source": [
        "## LGBM"
      ],
      "metadata": {
        "id": "UU5sGiF1-Aw7"
      }
    },
    {
      "cell_type": "code",
      "source": [
        "X_train = base_encoder(train)\n",
        "y_train = train['target_label']\n",
        "test_X = base_encoder(test)"
      ],
      "metadata": {
        "id": "1StpsIqpngIr",
        "outputId": "7ca17980-e68c-407d-8203-df44490e9b65",
        "colab": {
          "base_uri": "https://localhost:8080/"
        }
      },
      "execution_count": 103,
      "outputs": [
        {
          "output_type": "stream",
          "name": "stderr",
          "text": [
            "/usr/local/lib/python3.9/dist-packages/sklearn/decomposition/_nmf.py:1665: ConvergenceWarning: Maximum number of iterations 200 reached. Increase it to improve convergence.\n",
            "  warnings.warn(\n",
            "/usr/local/lib/python3.9/dist-packages/sklearn/decomposition/_nmf.py:1665: ConvergenceWarning: Maximum number of iterations 200 reached. Increase it to improve convergence.\n",
            "  warnings.warn(\n"
          ]
        }
      ]
    },
    {
      "cell_type": "code",
      "source": [
        "\n",
        "\n",
        "#****************************\n",
        "\n",
        "models = []                     \n",
        "preds = np.zeros(len(test))\n",
        "scores = 0.0   \n",
        "best_score = -1\n",
        "fi_df = pd.DataFrame()\n",
        "oof = np.zeros(len(X_train))\n",
        "\n",
        "#_train, X_valtest, y_train, y_valtest = train_test_split(train_X,train_y,test_size=config.FRAC,random_state=config.RANDOM_STATE)\n",
        "skf = StratifiedKFold(n_splits=config.N_FOLD, shuffle=True,random_state=config.RANDOM_STATE)\n",
        "\n",
        "for fold, (trn_idx, val_idx) in enumerate(skf.split(X_train, y_train)): \n",
        "  X_trn, y_trn = X_train.loc[trn_idx], y_train[trn_idx]\n",
        "  X_val, y_val = X_train.loc[val_idx], y_train[val_idx]\n",
        "\n",
        "  for bag in range(config.N_BAGGING):\n",
        "\n",
        "    rus = RandomUnderSampler(random_state=config.RANDOM_STATE, replacement=True)\n",
        "    if config.UNDER_SAMPLING:\n",
        "      X_trn, y_trn = rus.fit_resample(X_trn, y_trn)\n",
        "\n",
        "    # モデルの学習\n",
        "    model = lgb.LGBMClassifier(importance_type='gain')\n",
        "    # model = lgb.LGBMClassifier(n_estimators=30000,\n",
        "    # max_depth=5,\n",
        "    # colsample_bytree=0.5,\n",
        "    # learning_rate=0.06,\n",
        "    # importance_type='gain',\n",
        "    # random_state=config.RANDOM_STATE)\n",
        "    model.fit(X_trn, y_trn\n",
        "              ,eval_metric='auc' \n",
        "              ,eval_set=[(X_val, y_val)]\n",
        "              ,callbacks=[lgb.early_stopping(stopping_rounds=10, verbose=False)]\n",
        "              )\n",
        "    # train_pool = Pool(X_trn, y_trn)\n",
        "    # validate_pool = Pool(X_val, y_val) \n",
        "\n",
        "    # model = CatBoostClassifier(custom_loss=['AUC'],random_seed=config.RANDOM_STATE,logging_level='Silent')\n",
        "    # model.fit(train_pool,eval_set=validate_pool\n",
        "    #           ,early_stopping_rounds=10,use_best_model=True,plot=False,verbose=False)                 \n",
        "    \n",
        "    # validation データでの予測結果\n",
        "    score = roc_auc_score(y_val,model.predict_proba(X_val)[:,1])\n",
        "    oof[val_idx] = model.predict_proba(X_val)[:,1]\n",
        "    #scores += score / (config.N_FOLD * config.N_BAGGING)\n",
        "    models.append(model)\n",
        "\n",
        "    if score > best_score:\n",
        "        best_score = score\n",
        "        best_model = model\n",
        "        best_fold = fold+1\n",
        "        best_bag = bag+1\n",
        "\n",
        "    \n",
        "\n",
        "      # feature_importances_の記録\n",
        "    _df = pd.DataFrame()\n",
        "    _df['feature'] = X_trn.columns\n",
        "    _df['FI'] = model.feature_importances_\n",
        "    _df['fold'] = fold\n",
        "    _df['bag'] = bag\n",
        "    fi_df = pd.concat([fi_df, _df])\n",
        "\n",
        "    preds += model.predict_proba(test_X)[:,1] / (config.N_FOLD * config.N_BAGGING)\n",
        "\n",
        "    #print(\"Fold :\" , fold+1,\"Bagging:\",bag+1)\n",
        "\n",
        "  #print(\"Fold :\" , fold+1)\n",
        "\n",
        "#print(f\"fold best score : {best_score:.4f}\",\" FOLD \",best_fold,\"BAG\",best_bag)\n",
        "tot_auc = roc_auc_score(y_train, oof)\n",
        "#print(f\"Overall AUC: {tot_auc:.5f}\")\n",
        "print(tot_auc.round(5))\n",
        "\n",
        "# feature_importances_ 上位N個の図示\n",
        "TOP = 40\n",
        "\n",
        "order = fi_df.groupby('feature')['FI'].mean().sort_values(ascending=False)[:TOP].index\n",
        "# 可視化\n",
        "plt.figure(figsize=(10, 10))\n",
        "sns.barplot(x=\"FI\",y=\"feature\",data=fi_df,order=order)\n",
        "plt.title('importance')\n",
        "plt.tight_layout()\n",
        "plt.show()\n"
      ],
      "metadata": {
        "colab": {
          "base_uri": "https://localhost:8080/",
          "height": 743
        },
        "id": "fkFy8ohX-U7m",
        "outputId": "d1a931a6-c5b8-48ed-9f14-a9a23aed57bf"
      },
      "execution_count": 104,
      "outputs": [
        {
          "output_type": "stream",
          "name": "stdout",
          "text": [
            "0.87706\n"
          ]
        },
        {
          "output_type": "display_data",
          "data": {
            "text/plain": [
              "<Figure size 720x720 with 1 Axes>"
            ],
            "image/png": "[encoded data removed]"
          },
          "metadata": {}
        }
      ]
    },
    {
      "cell_type": "markdown",
      "source": [
        "##displot"
      ],
      "metadata": {
        "id": "reVy5ElYc6Tn"
      }
    },
    {
      "cell_type": "code",
      "source": [
        "oof_df = pd.DataFrame({\n",
        "    'oof': oof,\n",
        "    'target_label':train['target_label']\n",
        "})\n",
        "\n",
        "# 'target_label'ごとの予測値の分布を可視化する\n",
        "sns.displot(oof_df, x=\"oof\", hue=\"target_label\", kind=\"kde\", fill=True)\n",
        "\n",
        "# グラフのタイトルと軸ラベルを設定する\n",
        "plt.title('Distribution of Predictions by True Label')\n",
        "plt.xlabel('Prediction')\n",
        "plt.ylabel('Density')\n",
        "\n",
        "# グラフを表示する\n",
        "plt.show()"
      ],
      "metadata": {
        "colab": {
          "base_uri": "https://localhost:8080/",
          "height": 381
        },
        "id": "u0wjz-JfHzkU",
        "outputId": "ba921b74-65ea-463f-e14c-ee531db961aa"
      },
      "execution_count": 95,
      "outputs": [
        {
          "output_type": "display_data",
          "data": {
            "text/plain": [
              "<Figure size 440.8x360 with 1 Axes>"
            ],
            "image/png": "[encoded data removed]"
          },
          "metadata": {}
        }
      ]
    },
    {
      "cell_type": "code",
      "source": [
        "submission['target_label'] = preds\n",
        "#submission.to_csv(paths.SUB_OUT+'submission.csv', index=False)"
      ],
      "metadata": {
        "id": "s0nRSZ9QabXG"
      },
      "execution_count": 14,
      "outputs": []
    },
    {
      "cell_type": "code",
      "source": [],
      "metadata": {
        "id": "TicC_Gyc69au"
      },
      "execution_count": 14,
      "outputs": []
    }
  ]
}