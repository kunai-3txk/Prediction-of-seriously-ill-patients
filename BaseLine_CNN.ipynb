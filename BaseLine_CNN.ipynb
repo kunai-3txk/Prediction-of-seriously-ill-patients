{
  "nbformat": 4,
  "nbformat_minor": 0,
  "metadata": {
    "colab": {
      "provenance": [],
      "mount_file_id": "https://github.com/kunai-3txk/Prediction-of-seriously-ill-patients/blob/main/BaseLine_CNN.ipynb",
      "authorship_tag": "ABX9TyOOeEiPYosoeeB5XxoUYpFd",
      "include_colab_link": true
    },
    "kernelspec": {
      "name": "python3",
      "display_name": "Python 3"
    },
    "language_info": {
      "name": "python"
    }
  },
  "cells": [
    {
      "cell_type": "markdown",
      "metadata": {
        "id": "view-in-github",
        "colab_type": "text"
      },
      "source": [
        "<a href=\"https://colab.research.google.com/github/kunai-3txk/Prediction-of-seriously-ill-patients/blob/main/BaseLine_CNN.ipynb\" target=\"_parent\"><img src=\"https://colab.research.google.com/assets/colab-badge.svg\" alt=\"Open In Colab\"/></a>"
      ]
    },
    {
      "cell_type": "code",
      "source": [
        "import os\n",
        "\n",
        "import torch\n",
        "from torch.autograd import Variable\n",
        "import torch.nn as nn\n",
        "import torch.nn.functional as F\n",
        "import torch.optim as optim\n",
        "from torch.utils.data import DataLoader, TensorDataset\n",
        " \n",
        "from sklearn.datasets import load_wine\n",
        "from sklearn.model_selection import train_test_split\n",
        "import pandas as pd"
      ],
      "metadata": {
        "id": "ajUfMWuVuxfU"
      },
      "execution_count": 2,
      "outputs": []
    },
    {
      "cell_type": "markdown",
      "source": [
        "#config"
      ],
      "metadata": {
        "id": "iVs3fxXa8tts"
      }
    },
    {
      "cell_type": "code",
      "source": [
        "class config:\n",
        "    RANDOM_STATE=100  \n",
        "    FRAC = 0.2\n",
        "    N_FOLD = 5\n",
        "    N_BAGGING = 3\n",
        "    UNDER_SAMPLING = True\n",
        "    \n",
        "class paths:\n",
        "    # kaggle環境ならTrue\n",
        "    if 'KAGGLE_URL_BASE' in set(os.environ.keys()):\n",
        "        common_path = \"/kaggle/input/amp-parkinsons-disease-progression-prediction\"\n",
        "    \n",
        "    # colaboratory環境ならTrue\n",
        "    if 'COLAB_GPU' in set(os.environ.keys()):\n",
        "        common_path = \"/content/drive/MyDrive/ill\"\n",
        "    \n",
        "    SUBMISSION = common_path + \"/submission.csv\"\n",
        "    TRAIN = common_path + \"/train_df.csv\"\n",
        "    TEST = common_path + \"/test_df.csv\"\n",
        "    SUB_OUT = common_path + \"/sub/\"\n",
        "     "
      ],
      "metadata": {
        "id": "rJErP_Mv8lmB"
      },
      "execution_count": 3,
      "outputs": []
    },
    {
      "cell_type": "markdown",
      "source": [
        "#Load Data"
      ],
      "metadata": {
        "id": "q25eYeW09lC8"
      }
    },
    {
      "cell_type": "code",
      "source": [
        "train = pd.read_csv(paths.TRAIN)\n",
        "print('train shape:',train.shape)\n",
        "\n",
        "test = pd.read_csv(paths.TEST)\n",
        "print('test shape:',test.shape)\n",
        "\n",
        "submission = pd.read_csv(paths.SUBMISSION)\n",
        "print('submission shape:',submission.shape)"
      ],
      "metadata": {
        "colab": {
          "base_uri": "https://localhost:8080/"
        },
        "id": "IfbQzDXT8pVz",
        "outputId": "b5fc2aba-ca97-4664-96e3-952d86a74858"
      },
      "execution_count": 4,
      "outputs": [
        {
          "output_type": "stream",
          "name": "stdout",
          "text": [
            "train shape: (51359, 85)\n",
            "test shape: (12840, 84)\n",
            "submission shape: (12840, 2)\n"
          ]
        }
      ]
    },
    {
      "cell_type": "markdown",
      "source": [
        "## preprocessing"
      ],
      "metadata": {
        "id": "xLtOKg1Hc0pE"
      }
    },
    {
      "cell_type": "code",
      "source": [
        "num_cols = ['age', 'bmi', 'height', 'weight', 'icu_4', 'icu_6'\n",
        "            ,'glasgow_coma_scale_1', 'glasgow_coma_scale_2','glasgow_coma_scale_3', 'glasgow_coma_scale_4'\n",
        "            , 'heart_rate', 'blood_oxy', 'arterial_pressure',\n",
        "            'respiratory_rate', 'temp'\n",
        "            , 'blood_pressure_1', 'blood_pressure_2', 'blood_pressure_3', 'blood_pressure_4',\n",
        "            'v1_heartrate_max'\n",
        "            , 'v2', 'v3', 'v4', 'v5', 'v6', 'v7', 'v8', 'v9', 'v10', 'v11', 'v12', 'v13', 'v14','v15', 'v16'\n",
        "            , 'w1', 'w2', 'w3', 'w4', 'w5', 'w6', 'w7', 'w8', 'w9', 'w10', 'w11', 'w12', 'w13', 'w14','w15', 'w16', 'w17', 'w18'\n",
        "            , 'x1', 'x2', 'x3', 'x4', 'x5', 'x6']\n",
        "\n",
        "\n",
        "X_train = train[num_cols]\n",
        "X_train = X_train.fillna(-1)\n",
        "y_train = train['target_label']\n",
        "\n",
        "test_X = test[num_cols]\n",
        "test_X = test_X.fillna(-1)"
      ],
      "metadata": {
        "id": "JBxej7wmFHkU"
      },
      "execution_count": 5,
      "outputs": []
    },
    {
      "cell_type": "markdown",
      "source": [
        "#NN"
      ],
      "metadata": {
        "id": "e_z78CtqS_4U"
      }
    },
    {
      "cell_type": "code",
      "source": [
        "train_X, val_X, train_y, val_y = train_test_split(X_train.values, y_train.values, test_size = 0.25, random_state=0)\n",
        "\n",
        "train_X = torch.from_numpy(train_X).float()\n",
        "train_y = torch.from_numpy(train_y).long()\n",
        "val_X = torch.from_numpy(val_X).float()\n",
        "val_y = torch.from_numpy(val_y).long()\n",
        "\n",
        "test_X = torch.from_numpy(test_X.values).float()\n",
        "\n",
        "train_td=TensorDataset(train_X, train_y)\n",
        "\n",
        "train_loader = DataLoader(train_td, batch_size=15, shuffle=True)"
      ],
      "metadata": {
        "id": "4TFd497ywCJV"
      },
      "execution_count": 13,
      "outputs": []
    },
    {
      "cell_type": "code",
      "source": [
        "class Net1(nn.Module):\n",
        "    def __init__(self):\n",
        "        super(Net1, self).__init__()\n",
        "        self.fc1 = nn.Linear(59, 128) #入力層59個（特徴量分）、中間層を128に設定\n",
        "        self.fc2 = nn.Linear(128, 2)  #入力層が前の中間層の128となり、出力層は２分類ですので、2と設定\n",
        "         \n",
        "    def forward(self, x):\n",
        "        x = F.relu(self.fc1(x)) # ReLU: max(x, 0)\n",
        "        x = self.fc2(x)\n",
        "        return F.log_softmax(x, dim=0)\n",
        "\n",
        "class Net2(nn.Module):\n",
        "    def __init__(self):\n",
        "        super(Net2, self).__init__()\n",
        "        self.fc1 = nn.Linear(59, 128)\n",
        "        self.fc2 = nn.Linear(128, 128)\n",
        "        self.fc3 = nn.Linear(128, 128)\n",
        "        self.fc4 = nn.Linear(128, 128)\n",
        "        self.fc5 = nn.Linear(128, 128)\n",
        "        self.fc6 = nn.Linear(128, 2)\n",
        "         \n",
        "    def forward(self, x):\n",
        "        x = F.relu(self.fc1(x)) # ReLU: max(x, 0)\n",
        "        x = F.relu(self.fc2(x))\n",
        "        x = F.relu(self.fc3(x))\n",
        "        x = F.relu(self.fc4(x))\n",
        "        x = F.relu(self.fc5(x))\n",
        "        x = self.fc6(x)\n",
        "        return F.log_softmax(x, dim=0)\n",
        "\n",
        "model = Net2()"
      ],
      "metadata": {
        "id": "oFLGtN6CwbFc"
      },
      "execution_count": 7,
      "outputs": []
    },
    {
      "cell_type": "code",
      "source": [
        "criterion = nn.CrossEntropyLoss()\n",
        "optimizer = optim.SGD(model.parameters(), lr=0.01)\n",
        "for epoch in range(180): #学習回数500回\n",
        "    total_loss = 0\n",
        "     \n",
        "    for train_x, train_y in train_loader:\n",
        "        train_x, train_y = Variable(train_x), Variable(train_y)\n",
        "        optimizer.zero_grad()\n",
        "        output = model(train_x)\n",
        "        loss = criterion(output, train_y)\n",
        "        loss.backward()\n",
        "        optimizer.step()\n",
        "        total_loss += loss.item() #loss.data[0]で記述するとPyTorch0.5以上ではエラーが返る\n",
        "     \n",
        "    if (epoch+1)%60 == 0:\n",
        "        print(epoch+1, total_loss)"
      ],
      "metadata": {
        "id": "n36yEFGFw_xh",
        "outputId": "8562b5bf-f9b8-4164-ded4-b4274f3848e9",
        "colab": {
          "base_uri": "https://localhost:8080/"
        }
      },
      "execution_count": 8,
      "outputs": [
        {
          "output_type": "stream",
          "name": "stdout",
          "text": [
            "60 665.649908836931\n",
            "120 622.3198429457843\n",
            "180 623.3581464551389\n"
          ]
        }
      ]
    },
    {
      "cell_type": "code",
      "source": [
        "val_X, val_y = Variable(val_X), Variable(val_y)\n",
        "result = torch.max(model(val_X).data, 1)[1]\n",
        "accuracy = sum(val_y.data.numpy() == result.numpy()) / len(val_y.data.numpy())\n",
        "print(accuracy)\n",
        "\n",
        "#0.9129283489096574\n",
        "#0.9130841121495327\n",
        "\n",
        "result_test = torch.max(model(test_X).data,1)[1].numpy()"
      ],
      "metadata": {
        "id": "xVenMrGPwbCE",
        "outputId": "45766832-0515-4476-f42a-6b9bf21bfe62",
        "colab": {
          "base_uri": "https://localhost:8080/"
        }
      },
      "execution_count": 21,
      "outputs": [
        {
          "output_type": "execute_result",
          "data": {
            "text/plain": [
              "array([0, 0, 0, ..., 0, 0, 0])"
            ]
          },
          "metadata": {},
          "execution_count": 21
        }
      ]
    },
    {
      "cell_type": "code",
      "source": [],
      "metadata": {
        "id": "qRPG3ptl0kBY"
      },
      "execution_count": 9,
      "outputs": []
    },
    {
      "cell_type": "markdown",
      "source": [
        "#1D-CNN\n",
        "https://qiita.com/tatsuya11bbs/items/7a419568611157081f1d"
      ],
      "metadata": {
        "id": "CYtoPBN7TEBq"
      }
    },
    {
      "cell_type": "code",
      "source": [
        "class Net1D(nn.Module):\n",
        "  def __init__(self):\n",
        "    super(Net1D,self).__init__()\n",
        "\n",
        "    self.conv1 = nn.Conv1d(1, 8,kernel_size=3, stride=1)\n",
        "    self.bn1 = nn.BatchNorm1d(8)\n",
        "    self.relu = nn.ReLU()\n",
        "    self.maxpool = nn.MaxPool1d(kernel_size=3, stride=2)\n",
        "\n",
        "    self.conv2 = nn.Conv1d(8, 16,kernel_size=3, stride=1)\n",
        "    self.bn2 = nn.BatchNorm1d(16)\n",
        "    self.conv3 = nn.Conv1d(16,64,kernel_size=3, stride=1)\n",
        "    self.gap = nn.AdaptiveAvgPool1d(1)\n",
        "    self.fc = nn.Linear(64,2)\n",
        "\n",
        "\n",
        "  def forward(self,x):\n",
        "    x = self.conv1(x)\n",
        "    x = self.bn1(x)\n",
        "    x = self.relu(x)\n",
        "    x = self.maxpool(x)\n",
        "\n",
        "    x = self.conv2(x)\n",
        "    x = self.bn2(x)\n",
        "    x = self.relu(x)\n",
        "    x = self.maxpool(x)\n",
        "\n",
        "    x = self.conv3(x)\n",
        "    x = self.gap(x)\n",
        "    x = x.view(x.size(0),-1)\n",
        "    x = self.fc(x)\n",
        "\n",
        "    return x\n",
        "\n",
        "model = Net1D()\n",
        "in_data = torch.randn(8,1,50)\n",
        "out_data = model(in_data)\n",
        "print(out_data.size()) #torch.Size([8, 2])"
      ],
      "metadata": {
        "id": "OxezGtF3TFn2",
        "outputId": "698e1ec4-418f-4951-88d8-b124097efcd3",
        "colab": {
          "base_uri": "https://localhost:8080/"
        }
      },
      "execution_count": 25,
      "outputs": [
        {
          "output_type": "stream",
          "name": "stdout",
          "text": [
            "torch.Size([8, 2])\n"
          ]
        }
      ]
    },
    {
      "cell_type": "markdown",
      "source": [
        "#2D-CNN"
      ],
      "metadata": {
        "id": "liFVNImrTTFw"
      }
    },
    {
      "cell_type": "code",
      "source": [
        "class Net2D(nn.Module):\n",
        "  def __init__(self):\n",
        "    super(Net2D,self).__init__()\n",
        "\n",
        "    self.conv1 = nn.Conv2d(3,16,kernel_size=3,stride=2)\n",
        "    self.bn1 = nn.BatchNorm2d(16)\n",
        "    self.relu = nn.ReLU()\n",
        "    self.maxpool = nn.MaxPool2d(2)\n",
        "    self.conv2 = nn.Conv2d(16,32,kernel_size=3,stride=2)\n",
        "    self.bn2 = nn.BatchNorm2d(32)\n",
        "    self.conv3 = nn.Conv2d(32,64,kernel_size=3,stride=2)\n",
        "    self.gap = nn.AdaptiveAvgPool2d(1)\n",
        "    self.fc1 = nn.Linear(64,32)\n",
        "    self.fc2 = nn.Linear(32,2)\n",
        "\n",
        "\n",
        "  def forward(self,x):\n",
        "    x = self.conv1(x)\n",
        "    x = self.bn1(x)\n",
        "    x = self.relu(x)\n",
        "    x = self.maxpool(x)\n",
        "\n",
        "    x = self.conv2(x)\n",
        "    x = self.bn2(x)\n",
        "    x = self.relu(x)\n",
        "    x = self.maxpool(x)\n",
        "\n",
        "    x = self.conv3(x)\n",
        "    x = self.gap(x)\n",
        "    x = x.view(x.size(0),-1)\n",
        "    x = self.fc1(x)\n",
        "    x = self.fc2(x)\n",
        "    return x\n",
        "\n",
        "model = Net2D()\n",
        "in_data = torch.randn(1,16,3,50)\n",
        "out_data = model(in_data)\n",
        "print(out_data.size()) #torch.Size([8, 2])"
      ],
      "metadata": {
        "id": "5Xai7JYaTUg4",
        "outputId": "13457625-9295-44e3-c56a-089de8af6155",
        "colab": {
          "base_uri": "https://localhost:8080/",
          "height": 380
        }
      },
      "execution_count": 27,
      "outputs": [
        {
          "output_type": "error",
          "ename": "RuntimeError",
          "evalue": "ignored",
          "traceback": [
            "\u001b[0;31m---------------------------------------------------------------------------\u001b[0m",
            "\u001b[0;31mRuntimeError\u001b[0m                              Traceback (most recent call last)",
            "\u001b[0;32m<ipython-input-27-4452565a641b>\u001b[0m in \u001b[0;36m<cell line: 38>\u001b[0;34m()\u001b[0m\n\u001b[1;32m     36\u001b[0m \u001b[0mmodel\u001b[0m \u001b[0;34m=\u001b[0m \u001b[0mNet2D\u001b[0m\u001b[0;34m(\u001b[0m\u001b[0;34m)\u001b[0m\u001b[0;34m\u001b[0m\u001b[0;34m\u001b[0m\u001b[0m\n\u001b[1;32m     37\u001b[0m \u001b[0min_data\u001b[0m \u001b[0;34m=\u001b[0m \u001b[0mtorch\u001b[0m\u001b[0;34m.\u001b[0m\u001b[0mrandn\u001b[0m\u001b[0;34m(\u001b[0m\u001b[0;36m1\u001b[0m\u001b[0;34m,\u001b[0m\u001b[0;36m16\u001b[0m\u001b[0;34m,\u001b[0m\u001b[0;36m3\u001b[0m\u001b[0;34m,\u001b[0m\u001b[0;36m50\u001b[0m\u001b[0;34m)\u001b[0m\u001b[0;34m\u001b[0m\u001b[0;34m\u001b[0m\u001b[0m\n\u001b[0;32m---> 38\u001b[0;31m \u001b[0mout_data\u001b[0m \u001b[0;34m=\u001b[0m \u001b[0mmodel\u001b[0m\u001b[0;34m(\u001b[0m\u001b[0min_data\u001b[0m\u001b[0;34m)\u001b[0m\u001b[0;34m\u001b[0m\u001b[0;34m\u001b[0m\u001b[0m\n\u001b[0m\u001b[1;32m     39\u001b[0m \u001b[0mprint\u001b[0m\u001b[0;34m(\u001b[0m\u001b[0mout_data\u001b[0m\u001b[0;34m.\u001b[0m\u001b[0msize\u001b[0m\u001b[0;34m(\u001b[0m\u001b[0;34m)\u001b[0m\u001b[0;34m)\u001b[0m \u001b[0;31m#torch.Size([8, 2])\u001b[0m\u001b[0;34m\u001b[0m\u001b[0;34m\u001b[0m\u001b[0m\n",
            "\u001b[0;32m/usr/local/lib/python3.9/dist-packages/torch/nn/modules/module.py\u001b[0m in \u001b[0;36m_call_impl\u001b[0;34m(self, *input, **kwargs)\u001b[0m\n\u001b[1;32m   1192\u001b[0m         if not (self._backward_hooks or self._forward_hooks or self._forward_pre_hooks or _global_backward_hooks\n\u001b[1;32m   1193\u001b[0m                 or _global_forward_hooks or _global_forward_pre_hooks):\n\u001b[0;32m-> 1194\u001b[0;31m             \u001b[0;32mreturn\u001b[0m \u001b[0mforward_call\u001b[0m\u001b[0;34m(\u001b[0m\u001b[0;34m*\u001b[0m\u001b[0minput\u001b[0m\u001b[0;34m,\u001b[0m \u001b[0;34m**\u001b[0m\u001b[0mkwargs\u001b[0m\u001b[0;34m)\u001b[0m\u001b[0;34m\u001b[0m\u001b[0;34m\u001b[0m\u001b[0m\n\u001b[0m\u001b[1;32m   1195\u001b[0m         \u001b[0;31m# Do not call functions when jit is used\u001b[0m\u001b[0;34m\u001b[0m\u001b[0;34m\u001b[0m\u001b[0m\n\u001b[1;32m   1196\u001b[0m         \u001b[0mfull_backward_hooks\u001b[0m\u001b[0;34m,\u001b[0m \u001b[0mnon_full_backward_hooks\u001b[0m \u001b[0;34m=\u001b[0m \u001b[0;34m[\u001b[0m\u001b[0;34m]\u001b[0m\u001b[0;34m,\u001b[0m \u001b[0;34m[\u001b[0m\u001b[0;34m]\u001b[0m\u001b[0;34m\u001b[0m\u001b[0;34m\u001b[0m\u001b[0m\n",
            "\u001b[0;32m<ipython-input-27-4452565a641b>\u001b[0m in \u001b[0;36mforward\u001b[0;34m(self, x)\u001b[0m\n\u001b[1;32m     17\u001b[0m   \u001b[0;32mdef\u001b[0m \u001b[0mforward\u001b[0m\u001b[0;34m(\u001b[0m\u001b[0mself\u001b[0m\u001b[0;34m,\u001b[0m\u001b[0mx\u001b[0m\u001b[0;34m)\u001b[0m\u001b[0;34m:\u001b[0m\u001b[0;34m\u001b[0m\u001b[0;34m\u001b[0m\u001b[0m\n\u001b[1;32m     18\u001b[0m \u001b[0;34m\u001b[0m\u001b[0m\n\u001b[0;32m---> 19\u001b[0;31m     \u001b[0mx\u001b[0m \u001b[0;34m=\u001b[0m \u001b[0mself\u001b[0m\u001b[0;34m.\u001b[0m\u001b[0mconv1\u001b[0m\u001b[0;34m(\u001b[0m\u001b[0mx\u001b[0m\u001b[0;34m)\u001b[0m\u001b[0;34m\u001b[0m\u001b[0;34m\u001b[0m\u001b[0m\n\u001b[0m\u001b[1;32m     20\u001b[0m     \u001b[0mx\u001b[0m \u001b[0;34m=\u001b[0m \u001b[0mself\u001b[0m\u001b[0;34m.\u001b[0m\u001b[0mbn1\u001b[0m\u001b[0;34m(\u001b[0m\u001b[0mx\u001b[0m\u001b[0;34m)\u001b[0m\u001b[0;34m\u001b[0m\u001b[0;34m\u001b[0m\u001b[0m\n\u001b[1;32m     21\u001b[0m     \u001b[0mx\u001b[0m \u001b[0;34m=\u001b[0m \u001b[0mself\u001b[0m\u001b[0;34m.\u001b[0m\u001b[0mrelu\u001b[0m\u001b[0;34m(\u001b[0m\u001b[0mx\u001b[0m\u001b[0;34m)\u001b[0m\u001b[0;34m\u001b[0m\u001b[0;34m\u001b[0m\u001b[0m\n",
            "\u001b[0;32m/usr/local/lib/python3.9/dist-packages/torch/nn/modules/module.py\u001b[0m in \u001b[0;36m_call_impl\u001b[0;34m(self, *input, **kwargs)\u001b[0m\n\u001b[1;32m   1192\u001b[0m         if not (self._backward_hooks or self._forward_hooks or self._forward_pre_hooks or _global_backward_hooks\n\u001b[1;32m   1193\u001b[0m                 or _global_forward_hooks or _global_forward_pre_hooks):\n\u001b[0;32m-> 1194\u001b[0;31m             \u001b[0;32mreturn\u001b[0m \u001b[0mforward_call\u001b[0m\u001b[0;34m(\u001b[0m\u001b[0;34m*\u001b[0m\u001b[0minput\u001b[0m\u001b[0;34m,\u001b[0m \u001b[0;34m**\u001b[0m\u001b[0mkwargs\u001b[0m\u001b[0;34m)\u001b[0m\u001b[0;34m\u001b[0m\u001b[0;34m\u001b[0m\u001b[0m\n\u001b[0m\u001b[1;32m   1195\u001b[0m         \u001b[0;31m# Do not call functions when jit is used\u001b[0m\u001b[0;34m\u001b[0m\u001b[0;34m\u001b[0m\u001b[0m\n\u001b[1;32m   1196\u001b[0m         \u001b[0mfull_backward_hooks\u001b[0m\u001b[0;34m,\u001b[0m \u001b[0mnon_full_backward_hooks\u001b[0m \u001b[0;34m=\u001b[0m \u001b[0;34m[\u001b[0m\u001b[0;34m]\u001b[0m\u001b[0;34m,\u001b[0m \u001b[0;34m[\u001b[0m\u001b[0;34m]\u001b[0m\u001b[0;34m\u001b[0m\u001b[0;34m\u001b[0m\u001b[0m\n",
            "\u001b[0;32m/usr/local/lib/python3.9/dist-packages/torch/nn/modules/conv.py\u001b[0m in \u001b[0;36mforward\u001b[0;34m(self, input)\u001b[0m\n\u001b[1;32m    461\u001b[0m \u001b[0;34m\u001b[0m\u001b[0m\n\u001b[1;32m    462\u001b[0m     \u001b[0;32mdef\u001b[0m \u001b[0mforward\u001b[0m\u001b[0;34m(\u001b[0m\u001b[0mself\u001b[0m\u001b[0;34m,\u001b[0m \u001b[0minput\u001b[0m\u001b[0;34m:\u001b[0m \u001b[0mTensor\u001b[0m\u001b[0;34m)\u001b[0m \u001b[0;34m->\u001b[0m \u001b[0mTensor\u001b[0m\u001b[0;34m:\u001b[0m\u001b[0;34m\u001b[0m\u001b[0;34m\u001b[0m\u001b[0m\n\u001b[0;32m--> 463\u001b[0;31m         \u001b[0;32mreturn\u001b[0m \u001b[0mself\u001b[0m\u001b[0;34m.\u001b[0m\u001b[0m_conv_forward\u001b[0m\u001b[0;34m(\u001b[0m\u001b[0minput\u001b[0m\u001b[0;34m,\u001b[0m \u001b[0mself\u001b[0m\u001b[0;34m.\u001b[0m\u001b[0mweight\u001b[0m\u001b[0;34m,\u001b[0m \u001b[0mself\u001b[0m\u001b[0;34m.\u001b[0m\u001b[0mbias\u001b[0m\u001b[0;34m)\u001b[0m\u001b[0;34m\u001b[0m\u001b[0;34m\u001b[0m\u001b[0m\n\u001b[0m\u001b[1;32m    464\u001b[0m \u001b[0;34m\u001b[0m\u001b[0m\n\u001b[1;32m    465\u001b[0m \u001b[0;32mclass\u001b[0m \u001b[0mConv3d\u001b[0m\u001b[0;34m(\u001b[0m\u001b[0m_ConvNd\u001b[0m\u001b[0;34m)\u001b[0m\u001b[0;34m:\u001b[0m\u001b[0;34m\u001b[0m\u001b[0;34m\u001b[0m\u001b[0m\n",
            "\u001b[0;32m/usr/local/lib/python3.9/dist-packages/torch/nn/modules/conv.py\u001b[0m in \u001b[0;36m_conv_forward\u001b[0;34m(self, input, weight, bias)\u001b[0m\n\u001b[1;32m    457\u001b[0m                             \u001b[0mweight\u001b[0m\u001b[0;34m,\u001b[0m \u001b[0mbias\u001b[0m\u001b[0;34m,\u001b[0m \u001b[0mself\u001b[0m\u001b[0;34m.\u001b[0m\u001b[0mstride\u001b[0m\u001b[0;34m,\u001b[0m\u001b[0;34m\u001b[0m\u001b[0;34m\u001b[0m\u001b[0m\n\u001b[1;32m    458\u001b[0m                             _pair(0), self.dilation, self.groups)\n\u001b[0;32m--> 459\u001b[0;31m         return F.conv2d(input, weight, bias, self.stride,\n\u001b[0m\u001b[1;32m    460\u001b[0m                         self.padding, self.dilation, self.groups)\n\u001b[1;32m    461\u001b[0m \u001b[0;34m\u001b[0m\u001b[0m\n",
            "\u001b[0;31mRuntimeError\u001b[0m: Given groups=1, weight of size [16, 3, 3, 3], expected input[1, 16, 3, 50] to have 3 channels, but got 16 channels instead"
          ]
        }
      ]
    },
    {
      "cell_type": "code",
      "source": [],
      "metadata": {
        "id": "IoIwnCrPbygg"
      },
      "execution_count": null,
      "outputs": []
    }
  ]
}